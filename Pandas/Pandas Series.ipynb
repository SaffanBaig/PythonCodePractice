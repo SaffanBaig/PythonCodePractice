{
 "cells": [
  {
   "cell_type": "code",
   "execution_count": 1,
   "metadata": {},
   "outputs": [],
   "source": [
    "#We Use Pandas for Data Handling\n",
    "import pandas as pd"
   ]
  },
  {
   "cell_type": "code",
   "execution_count": 3,
   "metadata": {},
   "outputs": [
    {
     "name": "stdout",
     "output_type": "stream",
     "text": [
      "0    4\n",
      "1    5\n",
      "2   -1\n",
      "3    0\n",
      "dtype: int64\n"
     ]
    }
   ],
   "source": [
    "#Series is a part of dataframe\n",
    "obj = pd.Series([4, 5, -1, 0])\n",
    "print(obj)\n",
    "#obj is of pandas series type, and data inside is a ndim array of numpy"
   ]
  },
  {
   "cell_type": "code",
   "execution_count": 8,
   "metadata": {},
   "outputs": [
    {
     "name": "stdout",
     "output_type": "stream",
     "text": [
      "[ 4  5 -1  0]\n",
      "RangeIndex(start=0, stop=4, step=1)\n"
     ]
    }
   ],
   "source": [
    "#Series has two things \"values\" and \"index\"\n",
    "print(obj.values)\n",
    "print(obj.index)"
   ]
  },
  {
   "cell_type": "code",
   "execution_count": 11,
   "metadata": {},
   "outputs": [
    {
     "name": "stdout",
     "output_type": "stream",
     "text": [
      "a    100\n",
      "b    200\n",
      "c    300\n",
      "d    400\n",
      "dtype: int64\n",
      "Index(['a', 'b', 'c', 'd'], dtype='object')\n"
     ]
    }
   ],
   "source": [
    "#We can assign our own index\n",
    "sales = pd.Series([100, 200, 300, 400], index=['a', 'b', 'c', 'd'])\n",
    "print(sales)\n",
    "print(sales.index)"
   ]
  },
  {
   "cell_type": "code",
   "execution_count": 12,
   "metadata": {},
   "outputs": [
    {
     "name": "stdout",
     "output_type": "stream",
     "text": [
      "a    100\n",
      "b    200\n",
      "c    300\n",
      "d    400\n",
      "Name: Sales Data, dtype: int64\n"
     ]
    }
   ],
   "source": [
    "sales = pd.Series([100, 200, 300, 400], index=['a', 'b', 'c', 'd'], name=\"Sales Data\")\n",
    "print(sales)"
   ]
  },
  {
   "cell_type": "code",
   "execution_count": 15,
   "metadata": {},
   "outputs": [
    {
     "name": "stdout",
     "output_type": "stream",
     "text": [
      "200\n",
      "200\n"
     ]
    }
   ],
   "source": [
    "#Accessing series data\n",
    "#numpy style\n",
    "print(sales[1])\n",
    "#pandas style that is through index\n",
    "print(sales[\"b\"])"
   ]
  },
  {
   "cell_type": "code",
   "execution_count": 16,
   "metadata": {},
   "outputs": [
    {
     "name": "stdout",
     "output_type": "stream",
     "text": [
      "c    300\n",
      "d    400\n",
      "Name: Sales Data, dtype: int64\n",
      "c    300\n",
      "d    400\n",
      "Name: Sales Data, dtype: int64\n"
     ]
    }
   ],
   "source": [
    "#For accessing multiple values we need to use array notation\n",
    "print(sales[[2, 3]])\n",
    "print(sales[[\"c\", \"d\"]])"
   ]
  },
  {
   "cell_type": "code",
   "execution_count": 17,
   "metadata": {},
   "outputs": [
    {
     "name": "stdout",
     "output_type": "stream",
     "text": [
      "c    300\n",
      "d    400\n",
      "Name: Sales Data, dtype: int64\n"
     ]
    }
   ],
   "source": [
    "#We can also do conditional selection\n",
    "print(sales[sales>250])"
   ]
  },
  {
   "cell_type": "code",
   "execution_count": 18,
   "metadata": {},
   "outputs": [
    {
     "data": {
      "text/plain": [
       "a    200\n",
       "b    400\n",
       "c    600\n",
       "d    800\n",
       "Name: Sales Data, dtype: int64"
      ]
     },
     "execution_count": 18,
     "metadata": {},
     "output_type": "execute_result"
    }
   ],
   "source": [
    "sales * 2"
   ]
  },
  {
   "cell_type": "code",
   "execution_count": 29,
   "metadata": {},
   "outputs": [
    {
     "data": {
      "text/plain": [
       "True"
      ]
     },
     "execution_count": 29,
     "metadata": {},
     "output_type": "execute_result"
    }
   ],
   "source": [
    "'a' in sales"
   ]
  },
  {
   "cell_type": "code",
   "execution_count": 32,
   "metadata": {},
   "outputs": [
    {
     "name": "stdout",
     "output_type": "stream",
     "text": [
      "a    1\n",
      "b    2\n",
      "c    3\n",
      "d    4\n",
      "Name: Object 2, dtype: int32\n"
     ]
    }
   ],
   "source": [
    "#Converting different datatype data into pandas series\n",
    "#1- Numpy Array\n",
    "import numpy as np\n",
    "arr = np.array([1,2,3,4])\n",
    "ind = np.array(['a', 'b', 'c', 'd'])\n",
    "obj2 = pd.Series(arr, index=ind, name=\"Object 2\")\n",
    "print(obj2)"
   ]
  },
  {
   "cell_type": "code",
   "execution_count": 35,
   "metadata": {},
   "outputs": [
    {
     "data": {
      "text/plain": [
       "Sindh          45000\n",
       "Balochistan    39000\n",
       "Punjab         59000\n",
       "KPK            50000\n",
       "Name: Dictionary Object, dtype: int64"
      ]
     },
     "execution_count": 35,
     "metadata": {},
     "output_type": "execute_result"
    }
   ],
   "source": [
    "#2- Dictionary\n",
    "states = {\"Sindh\": 45000, \"Balochistan\": 39000, \"Punjab\": 59000, \"KPK\": 50000}\n",
    "obj_dict = pd.Series(states, name=\"Dictionary Object\")\n",
    "obj_dict"
   ]
  },
  {
   "cell_type": "code",
   "execution_count": 37,
   "metadata": {},
   "outputs": [
    {
     "name": "stdout",
     "output_type": "stream",
     "text": [
      "Balochistan    39000\n",
      "KPK            50000\n",
      "Sindh          45000\n",
      "Punjab         59000\n",
      "dtype: int64\n"
     ]
    }
   ],
   "source": [
    "# Changing index positing location also rearrange the values respectively\n",
    "obj_dict = pd.Series(states, index = ['Balochistan', 'KPK', 'Sindh', 'Punjab'])\n",
    "print(obj_dict)"
   ]
  },
  {
   "cell_type": "code",
   "execution_count": 42,
   "metadata": {},
   "outputs": [],
   "source": [
    "#Missing value is replaced by NaN\n",
    "obj_dict = pd.Series(states, index = ['Balochistan', 'KPK', 'Sindh', 'Punjab', 'Gilgit'])"
   ]
  },
  {
   "cell_type": "code",
   "execution_count": 44,
   "metadata": {},
   "outputs": [
    {
     "name": "stdout",
     "output_type": "stream",
     "text": [
      "Balochistan    False\n",
      "KPK            False\n",
      "Sindh          False\n",
      "Punjab         False\n",
      "Gilgit          True\n",
      "dtype: bool\n",
      "Balochistan    False\n",
      "KPK            False\n",
      "Sindh          False\n",
      "Punjab         False\n",
      "Gilgit          True\n",
      "dtype: bool\n"
     ]
    }
   ],
   "source": [
    "print(pd.isnull(obj_dict))\n",
    "print(obj_dict.isnull())"
   ]
  },
  {
   "cell_type": "code",
   "execution_count": 46,
   "metadata": {},
   "outputs": [
    {
     "name": "stdout",
     "output_type": "stream",
     "text": [
      "States Index\n",
      "Balochistan    39000.0\n",
      "KPK            50000.0\n",
      "Sindh          45000.0\n",
      "Punjab         59000.0\n",
      "Gilgit             NaN\n",
      "Name: States, dtype: float64\n"
     ]
    }
   ],
   "source": [
    "obj_dict.index.name = \"States Index\"\n",
    "obj_dict.name = \"States\"\n",
    "print(obj_dict)"
   ]
  },
  {
   "cell_type": "code",
   "execution_count": null,
   "metadata": {},
   "outputs": [],
   "source": []
  }
 ],
 "metadata": {
  "kernelspec": {
   "display_name": "Python 3",
   "language": "python",
   "name": "python3"
  },
  "language_info": {
   "codemirror_mode": {
    "name": "ipython",
    "version": 3
   },
   "file_extension": ".py",
   "mimetype": "text/x-python",
   "name": "python",
   "nbconvert_exporter": "python",
   "pygments_lexer": "ipython3",
   "version": "3.7.4"
  }
 },
 "nbformat": 4,
 "nbformat_minor": 2
}
